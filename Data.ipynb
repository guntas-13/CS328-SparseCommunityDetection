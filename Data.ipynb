{
 "cells": [
  {
   "cell_type": "code",
   "execution_count": 17,
   "metadata": {},
   "outputs": [],
   "source": [
    "import networkx as nx\n",
    "from pyvis.network import Network\n",
    "import community\n",
    "import matplotlib.pyplot as plt\n",
    "import numpy as np\n",
    "import pandas as pd\n",
    "from latex import latexify\n",
    "latexify(columns = 2)\n",
    "\n",
    "%matplotlib inline\n",
    "%config InlineBackend.figure_format = \"retina\""
   ]
  },
  {
   "cell_type": "code",
   "execution_count": 18,
   "metadata": {},
   "outputs": [
    {
     "name": "stdout",
     "output_type": "stream",
     "text": [
      "karate.html\n",
      "Adjacency List:  {0: {1: {'width': 4}, 2: {'width': 5}, 3: {'width': 3}, 4: {'width': 3}, 5: {'width': 3}, 6: {'width': 3}, 7: {'width': 2}, 8: {'width': 2}, 10: {'width': 2}, 11: {'width': 3}, 12: {'width': 1}, 13: {'width': 3}, 17: {'width': 2}, 19: {'width': 2}, 21: {'width': 2}, 31: {'width': 2}}, 1: {0: {'width': 4}, 2: {'width': 6}, 3: {'width': 3}, 7: {'width': 4}, 13: {'width': 5}, 17: {'width': 1}, 19: {'width': 2}, 21: {'width': 2}, 30: {'width': 2}}, 2: {0: {'width': 5}, 1: {'width': 6}, 3: {'width': 3}, 7: {'width': 4}, 8: {'width': 5}, 9: {'width': 1}, 13: {'width': 3}, 27: {'width': 2}, 28: {'width': 2}, 32: {'width': 2}}, 3: {0: {'width': 3}, 1: {'width': 3}, 2: {'width': 3}, 7: {'width': 3}, 12: {'width': 3}, 13: {'width': 3}}, 4: {0: {'width': 3}, 6: {'width': 2}, 10: {'width': 3}}, 5: {0: {'width': 3}, 6: {'width': 5}, 10: {'width': 3}, 16: {'width': 3}}, 6: {0: {'width': 3}, 4: {'width': 2}, 5: {'width': 5}, 16: {'width': 3}}, 7: {0: {'width': 2}, 1: {'width': 4}, 2: {'width': 4}, 3: {'width': 3}}, 8: {0: {'width': 2}, 2: {'width': 5}, 30: {'width': 3}, 32: {'width': 3}, 33: {'width': 4}}, 9: {2: {'width': 1}, 33: {'width': 2}}, 10: {0: {'width': 2}, 4: {'width': 3}, 5: {'width': 3}}, 11: {0: {'width': 3}}, 12: {0: {'width': 1}, 3: {'width': 3}}, 13: {0: {'width': 3}, 1: {'width': 5}, 2: {'width': 3}, 3: {'width': 3}, 33: {'width': 3}}, 14: {32: {'width': 3}, 33: {'width': 2}}, 15: {32: {'width': 3}, 33: {'width': 4}}, 16: {5: {'width': 3}, 6: {'width': 3}}, 17: {0: {'width': 2}, 1: {'width': 1}}, 18: {32: {'width': 1}, 33: {'width': 2}}, 19: {0: {'width': 2}, 1: {'width': 2}, 33: {'width': 1}}, 20: {32: {'width': 3}, 33: {'width': 1}}, 21: {0: {'width': 2}, 1: {'width': 2}}, 22: {32: {'width': 2}, 33: {'width': 3}}, 23: {25: {'width': 5}, 27: {'width': 4}, 29: {'width': 3}, 32: {'width': 5}, 33: {'width': 4}}, 24: {25: {'width': 2}, 27: {'width': 3}, 31: {'width': 2}}, 25: {23: {'width': 5}, 24: {'width': 2}, 31: {'width': 7}}, 26: {29: {'width': 4}, 33: {'width': 2}}, 27: {2: {'width': 2}, 23: {'width': 4}, 24: {'width': 3}, 33: {'width': 4}}, 28: {2: {'width': 2}, 31: {'width': 2}, 33: {'width': 2}}, 29: {23: {'width': 3}, 26: {'width': 4}, 32: {'width': 4}, 33: {'width': 2}}, 30: {1: {'width': 2}, 8: {'width': 3}, 32: {'width': 3}, 33: {'width': 3}}, 31: {0: {'width': 2}, 24: {'width': 2}, 25: {'width': 7}, 28: {'width': 2}, 32: {'width': 4}, 33: {'width': 4}}, 32: {2: {'width': 2}, 8: {'width': 3}, 14: {'width': 3}, 15: {'width': 3}, 18: {'width': 1}, 20: {'width': 3}, 22: {'width': 2}, 23: {'width': 5}, 29: {'width': 4}, 30: {'width': 3}, 31: {'width': 4}, 33: {'width': 5}}, 33: {8: {'width': 4}, 9: {'width': 2}, 13: {'width': 3}, 14: {'width': 2}, 15: {'width': 4}, 18: {'width': 2}, 19: {'width': 1}, 20: {'width': 1}, 23: {'width': 4}, 26: {'width': 2}, 27: {'width': 4}, 28: {'width': 2}, 29: {'width': 2}, 30: {'width': 3}, 31: {'width': 4}, 32: {'width': 5}, 22: {'width': 3}}}\n",
      "Degree:  [(0, 16), (1, 9), (2, 10), (3, 6), (4, 3), (5, 4), (6, 4), (7, 4), (8, 5), (9, 2), (10, 3), (11, 1), (12, 2), (13, 5), (14, 2), (15, 2), (16, 2), (17, 2), (18, 2), (19, 3), (20, 2), (21, 2), (22, 2), (23, 5), (24, 3), (25, 3), (26, 2), (27, 4), (28, 3), (29, 4), (30, 4), (31, 6), (32, 12), (33, 17)]\n",
      "Clustering Coefficient:  {0: 0.15, 1: 0.3333333333333333, 2: 0.24444444444444444, 3: 0.6666666666666666, 4: 0.6666666666666666, 5: 0.5, 6: 0.5, 7: 1.0, 8: 0.5, 9: 0, 10: 0.6666666666666666, 11: 0, 12: 1.0, 13: 0.6, 14: 1.0, 15: 1.0, 16: 1.0, 17: 1.0, 18: 1.0, 19: 0.3333333333333333, 20: 1.0, 21: 1.0, 22: 1.0, 23: 0.4, 24: 0.3333333333333333, 25: 0.3333333333333333, 26: 1.0, 27: 0.16666666666666666, 28: 0.3333333333333333, 29: 0.6666666666666666, 30: 0.5, 31: 0.2, 32: 0.19696969696969696, 33: 0.11029411764705882}\n",
      "Node Labels:  {0: 'Mr. Hi', 1: 'Mr. Hi', 2: 'Mr. Hi', 3: 'Mr. Hi', 4: 'Mr. Hi', 5: 'Mr. Hi', 6: 'Mr. Hi', 7: 'Mr. Hi', 8: 'Mr. Hi', 9: 'Officer', 10: 'Mr. Hi', 11: 'Mr. Hi', 12: 'Mr. Hi', 13: 'Mr. Hi', 14: 'Officer', 15: 'Officer', 16: 'Mr. Hi', 17: 'Mr. Hi', 18: 'Officer', 19: 'Mr. Hi', 20: 'Officer', 21: 'Mr. Hi', 22: 'Officer', 23: 'Officer', 24: 'Officer', 25: 'Officer', 26: 'Officer', 27: 'Officer', 28: 'Officer', 29: 'Officer', 30: 'Officer', 31: 'Officer', 32: 'Officer', 33: 'Officer'}\n"
     ]
    }
   ],
   "source": [
    "## Loading Zachary's Karate Club graph\n",
    "\n",
    "G = nx.karate_club_graph()\n",
    "\n",
    "## Display the interactive graph with node labels and colors with ample space between nodes\n",
    "\n",
    "nt = Network(height = \"1080px\", width = \"100%\", notebook = True, cdn_resources = \"remote\")\n",
    "\n",
    "## Add color based upon the club to which the member belongs\n",
    "## Also write the number on nodes\n",
    "\n",
    "\n",
    "\n",
    "for node in G.nodes:\n",
    "    if G.nodes[node][\"club\"] == \"Mr. Hi\":\n",
    "        G.nodes[node][\"color\"] = \"blue\"\n",
    "    else:\n",
    "        G.nodes[node][\"color\"] = \"red\"\n",
    "\n",
    "nt.from_nx(G)\n",
    "nt.show(\"karate.html\")\n",
    "\n",
    "\n",
    "## Get all graph properties -> its adjacency list, degree, clustering coefficient, node labels\n",
    "\n",
    "print(\"Adjacency List: \", G.adj)\n",
    "print(\"Degree: \", G.degree)\n",
    "print(\"Clustering Coefficient: \", nx.clustering(G))\n",
    "print(\"Node Labels: \", nx.get_node_attributes(G, \"club\"))"
   ]
  },
  {
   "cell_type": "code",
   "execution_count": null,
   "metadata": {},
   "outputs": [],
   "source": [
    "## Loading Amazon product co-purchasing network from Standford SNAP\n",
    "## Data in com-amazon.ungraph.txt\n",
    "\n",
    "G = nx.read_edgelist(\"./AmazonCoPurchase/com-amazon.ungraph.txt\", create_using = nx.Graph(), nodetype = int)\n",
    "\n",
    "## Load the community structure from com-amazon.all.dedup.cmty.txt\n",
    "## an example of two communities is as follows:\n",
    "# 100005\t127545\t202036\t257630\t362970\t376927\t429080\n",
    "# 10001\t27638\t51569\t88226\t116422\t126227\t159947\t162938\t184977\t188045\t191044\t246142\t265214\t290507\t296858\t300258\t341525\t348922\t359832\t365744\t382502\t390538\t410857\t433453\t479170\t489980\t540746\n",
    "\n",
    "communities = []\n",
    "with open(\"./AmazonCoPurchase/com-amazon.all.dedup.cmty.txt\", \"r\") as f:\n",
    "    for line in f:\n",
    "        communities.append(list(map(int, line.strip().split(\"\\t\"))))\n",
    "\n",
    "## Convert the list to dataframe for better visualization\n",
    "\n",
    "communities_df = pd.DataFrame(communities)\n",
    "\n",
    "## Create a dictionary to map each node to its community\n",
    "\n",
    "node_community = {}\n",
    "for i in range(len(communities)):\n",
    "    for node in communities[i]:\n",
    "        node_community[node] = i\n",
    "\n",
    "## Add the community information to the graph\n",
    "\n",
    "for node in G.nodes:\n",
    "    G.nodes[node][\"community\"] = node_community[node]\n",
    "\n",
    "## Print the essential information about the graph\n",
    "\n",
    "print(\"Number of Nodes: \", G.number_of_nodes())\n",
    "print(\"Number of Edges: \", G.number_of_edges())\n",
    "print(\"Average Clustering Coefficient: \", nx.average_clustering(G))\n",
    "print(\"Number of Connected Components: \", nx.number_connected_components(G))\n",
    "print(\"Number of Communities: \", len(communities))\n"
   ]
  },
  {
   "cell_type": "code",
   "execution_count": null,
   "metadata": {},
   "outputs": [],
   "source": []
  }
 ],
 "metadata": {
  "kernelspec": {
   "display_name": "base",
   "language": "python",
   "name": "python3"
  },
  "language_info": {
   "codemirror_mode": {
    "name": "ipython",
    "version": 3
   },
   "file_extension": ".py",
   "mimetype": "text/x-python",
   "name": "python",
   "nbconvert_exporter": "python",
   "pygments_lexer": "ipython3",
   "version": "3.9.16"
  }
 },
 "nbformat": 4,
 "nbformat_minor": 2
}
