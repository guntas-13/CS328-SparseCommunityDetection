{
 "cells": [
  {
   "cell_type": "code",
   "execution_count": 1,
   "metadata": {},
   "outputs": [
    {
     "name": "stdout",
     "output_type": "stream",
     "text": [
      "Function Description:\n",
      "1. plotRandomCommunity(G, community, title = None)\n",
      "2. get_community_dict(communities)\n",
      "3. get_communities(community_dict)\n",
      "4. run_louvain(G)\n",
      "5. metrics(ground_truth, predicted)\n",
      "6. plot_metrics_sparse(G, ground_truth, sparseFunctions, k_values)\n",
      "\n",
      "Sampling Methods:\n",
      "1. edge_betweenness_sparsification(G, k)\n",
      "2. edge_random_sparsification(G, k)\n",
      "3. edge_jaccard_sparsification(G, k)\n",
      "4. edge_L_Spar_sparsification(G, r)\n",
      "\n",
      "\n",
      "\n",
      "=============================================================================\n",
      "ORIGINAL GRAPH: G_DBLP, INDUCED SUBGRAPH: G_ind_DBLP, COMMUNITIES: communitiesDBLP\n",
      "Number of nodes:  317080\n",
      "Number of edges:  1049866\n",
      "Number of communities:  150\n",
      "Number of nodes in induced subgraph:  1420\n",
      "Number of edges in induced subgraph:  4609\n",
      "\n",
      "=============================================================================\n",
      "ORIGINAL GRAPH: G_Amz, INDUCED SUBGRAPH: G_ind_Amz, COMMUNITIES: communitiesAmazon\n",
      "Number of nodes:  334863\n",
      "Number of edges:  925872\n",
      "Number of communities:  300\n",
      "Number of nodes in induced subgraph:  2008\n",
      "Number of edges in induced subgraph:  5960\n",
      "\n",
      "=============================================================================\n",
      "ORIGINAL GRAPH: G_YT, INDUCED SUBGRAPH: G_ind_YT, COMMUNITIES: communitiesYT\n",
      "Number of nodes:  1134890\n",
      "Number of edges:  2987624\n",
      "Number of communities:  100\n",
      "Number of nodes in induced subgraph:  4890\n",
      "Number of edges in induced subgraph:  20787\n",
      "\n",
      "=============================================================================\n",
      "ORIGINAL GRAPH: G_eu, COMMUNITIES: comm_eu\n",
      "Number of nodes:  1005\n",
      "Number of edges:  16064\n",
      "Number of communities:  42\n",
      "\n",
      "=============================================================================\n",
      "ORIGINAL GRAPH: G_FB\n",
      "Number of nodes:  4039\n",
      "Number of edges:  88234\n"
     ]
    }
   ],
   "source": [
    "from Networks import *"
   ]
  },
  {
   "cell_type": "code",
   "execution_count": 2,
   "metadata": {},
   "outputs": [],
   "source": [
    "%matplotlib inline\n",
    "%config InlineBackend.figure_format = \"retina\""
   ]
  },
  {
   "cell_type": "code",
   "execution_count": null,
   "metadata": {},
   "outputs": [],
   "source": [
    "def plot_metrics_sparse(G, ground_truth, sparseFunctions, k_values):\n",
    "    ari_values = [[0] * len(k_values) for _ in sparseFunctions]\n",
    "    nmi_values = [[0] * len(k_values) for _ in sparseFunctions]\n",
    "    names = [name for name, _ in sparseFunctions]\n",
    "    SparseGraphs = [[0] * len(k_values) for _ in sparseFunctions]\n",
    "    \n",
    "    for idx, (_, function) in enumerate(sparseFunctions):\n",
    "        for i, k in enumerate(k_values):\n",
    "            H = function(G, k)\n",
    "            predicted = run_louvain(H)\n",
    "            ari, nmi = metrics(ground_truth, predicted)\n",
    "            ari_values[idx][i] = ari\n",
    "            nmi_values[idx][i] = nmi\n",
    "            SparseGraphs[idx][i] = H\n",
    "    \n",
    "    plt.figure(figsize = (12, 8))\n",
    "    plt.xticks(range(len(k_values)), [f\"{100 * k}%\" for k in k_values])\n",
    "    for idx in range(len(sparseFunctions)):\n",
    "        plt.plot(ari_values[idx], label = names[idx], marker = \"o\")\n",
    "        for i, txt in enumerate(ari_values[idx]):\n",
    "            plt.annotate(f\"{txt:.4f}\", (i, ari_values[idx][i]))      \n",
    "    plt.xlabel(\"Percentage Retention of Edges\")\n",
    "    plt.ylabel(\"ARI\")\n",
    "    plt.title(f\"ARI for Louvain vs k\")\n",
    "    plt.legend()\n",
    "    plt.grid()\n",
    "    plt.show()\n",
    "    \n",
    "    plt.figure(figsize = (12, 8))\n",
    "    plt.xticks(range(len(k_values)), [f\"{100 * k}%\" for k in k_values])\n",
    "    for idx in range(len(sparseFunctions)): \n",
    "        plt.plot(nmi_values[idx], label = names[idx], marker = \"o\")\n",
    "        for i, txt in enumerate(nmi_values[idx]):\n",
    "            plt.annotate(f\"{txt:.4f}\", (i, nmi_values[idx][i]))\n",
    "    plt.xlabel(\"Percentage Retention of Edges\")\n",
    "    plt.ylabel(\"NMI\")\n",
    "    plt.title(f\"NMI for Louvain vs k\")\n",
    "    plt.legend()\n",
    "    plt.grid()\n",
    "    plt.show()\n",
    "    \n",
    "    return SparseGraphs"
   ]
  },
  {
   "cell_type": "code",
   "execution_count": null,
   "metadata": {},
   "outputs": [],
   "source": [
    "# Modularity as a metric for community detection\n",
    "\n"
   ]
  }
 ],
 "metadata": {
  "kernelspec": {
   "display_name": "base",
   "language": "python",
   "name": "python3"
  },
  "language_info": {
   "codemirror_mode": {
    "name": "ipython",
    "version": 3
   },
   "file_extension": ".py",
   "mimetype": "text/x-python",
   "name": "python",
   "nbconvert_exporter": "python",
   "pygments_lexer": "ipython3",
   "version": "3.9.16"
  }
 },
 "nbformat": 4,
 "nbformat_minor": 2
}
